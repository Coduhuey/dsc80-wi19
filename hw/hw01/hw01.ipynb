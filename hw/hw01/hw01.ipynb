{
 "cells": [
  {
   "cell_type": "markdown",
   "metadata": {},
   "source": [
    "# DSC 80: Homework 01\n",
    "\n",
    "### Due Date: Sunday, 2019-01-13 23:59:59"
   ]
  },
  {
   "cell_type": "markdown",
   "metadata": {},
   "source": [
    "## Instructions\n",
    "Much like in DSC 10, this Jupyter Notebook contains the statements of the homework problems and provides code and markdown cells to display your answers to the problems. Unlike DSC 10, the notebook is *only* for displaying a readable version of your final answers. The coding work will be developed in an accompanying `hw01.py` file, that will be imported into the current notebook.\n",
    "\n",
    "Homeworks and programming assignments will be graded in (at most) two ways:\n",
    "1. The functions and classes in the accompanying python file will be tested (a la DSC 20),\n",
    "2. The notebook will be graded (for graphs and free response questions).\n",
    "\n",
    "\n",
    "**Do not change the function names in the `*.py` file**\n",
    "- The functions in the `*.py` file are how your assignment is graded, and they are graded by their name. The dictionary at the end of the file (`GRADED FUNCTIONS`) contains the \"grading list\". The final function in the file allows your doctests to check that all the necessary functions exist.\n",
    "- If you changed something you weren't supposed to, just use git to revert!\n",
    "\n",
    "**Tips for working in the Notebook**:\n",
    "- The notebooks serve to present you the questions and give you a place to present your results for later review.\n",
    "- The notebook on *HW assignments* are not graded (only the `.py` file).\n",
    "- Notebooks for PAs will serve as a final report for the assignment, and contain conclusions and answers to open ended questions that are graded.\n",
    "- The notebook serves as a nice environment for 'pre-development' and experimentation before designing your function in your `.py` file.\n",
    "\n",
    "**Tips for developing in the .py file**:\n",
    "- Do not change the function names in the starter code; grading is done using these function names.\n",
    "- Do not change the docstrings in the functions. These are there to tell you if your work is on the right track!\n",
    "- You are encouraged to write your own additional functions to solve the HW! \n",
    "    - Developing in python usually consists of larger files, with many short functions.\n",
    "    - You may write your other functions in an additional `.py` file that you import in `hw01.py` (much like we do in the notebook).\n",
    "- Always document your code!"
   ]
  },
  {
   "cell_type": "markdown",
   "metadata": {},
   "source": [
    "### Importing code from `hw**.py`\n",
    "\n",
    "* We import our `.py` file that's contained in the same directory as this notebook.\n",
    "* We use the `autoreload` notebook extension to make changes to our `hw**.py` file immediately available in our notebook. Without this extension, we would need to restart the notebook kernel to see any changes to `hw**.py` in the notebook.\n",
    "    - `autoreload` is necessary because, upon import, `hw**.py` is compiled to bytecode (in the directory `__pycache__`). Subsequent imports of `hw**` merely import the existing compiled python."
   ]
  },
  {
   "cell_type": "code",
   "execution_count": null,
   "metadata": {},
   "outputs": [],
   "source": [
    "%load_ext autoreload\n",
    "%autoreload 2"
   ]
  },
  {
   "cell_type": "code",
   "execution_count": null,
   "metadata": {},
   "outputs": [],
   "source": [
    "import hw01 as hw"
   ]
  },
  {
   "cell_type": "markdown",
   "metadata": {},
   "source": [
    "## Python Basics"
   ]
  },
  {
   "cell_type": "markdown",
   "metadata": {},
   "source": [
    "---\n",
    "**Question 0 (EXAMPLE):**\n",
    "\n",
    "Write a function that takes in a possibly empty list of integers and:\n",
    "* Returns `True` if there exist two adjacent list elements that are consecutive integers.\n",
    "* Otherwise, returns `False`.\n",
    "\n",
    "For example, because `9` is next to `8`:\n",
    "```\n",
    ">>> hw.consecutive_ints([5,3,6,4,9,8])\n",
    "True\n",
    "```\n",
    "Whereas:\n",
    "```\n",
    ">>> hw.consecutive_ints([1,3,5,7,9])\n",
    "False\n",
    "```\n",
    "\n",
    "*Note*: This question is done for you, to demonstrate a completed homework problem."
   ]
  },
  {
   "cell_type": "code",
   "execution_count": null,
   "metadata": {},
   "outputs": [],
   "source": [
    "# Develop your code here (or in an IDE) if you'd like.\n",
    "# Though only code in hw01.py will be graded!"
   ]
  },
  {
   "cell_type": "code",
   "execution_count": null,
   "metadata": {},
   "outputs": [],
   "source": [
    "# Add more cells if you'd like!"
   ]
  },
  {
   "cell_type": "markdown",
   "metadata": {},
   "source": [
    "Test your code in two ways:\n",
    "1. Run the cell below to test your code. You should also copy the cell and change the input to test further (i.e. write your own doctests)! Does it work for corner cases? Real-world data is **very messy** and you should expect your data processing code to break without thorough testing!\n",
    "2. Run doctests on `hw01.py` by running the following command on the commandline:\n",
    "```\n",
    "python -m doctest hw01.py\n",
    "```\n",
    "If the doctests pass, then there should be *no* output."
   ]
  },
  {
   "cell_type": "code",
   "execution_count": null,
   "metadata": {},
   "outputs": [],
   "source": [
    "# test your code!\n",
    "hw.consecutive_ints([1,3,2,4])"
   ]
  },
  {
   "cell_type": "code",
   "execution_count": null,
   "metadata": {},
   "outputs": [],
   "source": [
    "hw.consecutive_ints([0])"
   ]
  },
  {
   "cell_type": "code",
   "execution_count": null,
   "metadata": {},
   "outputs": [],
   "source": [
    "hw.consecutive_ints([])"
   ]
  },
  {
   "cell_type": "markdown",
   "metadata": {},
   "source": [
    "---\n",
    "**Question 1 (median):**\n",
    "\n",
    "Write a function called *median* that takes a non-empty list of numbers, returning the median element of the list. If the list has even length, it should return the mean of the two elements in the middle.\n",
    "```\n",
    ">>> hw.median([6, 5, 4, 3, 2])\n",
    "4\n",
    ">>> hw.median([50, 20, 15, 40])\n",
    "30\n",
    "```"
   ]
  },
  {
   "cell_type": "code",
   "execution_count": null,
   "metadata": {},
   "outputs": [],
   "source": []
  },
  {
   "cell_type": "markdown",
   "metadata": {},
   "source": [
    "---\n",
    "**Question 2 (lcm):**\n",
    "\n",
    "The *Least Common Multiple* of 3 numbers $a,b,c$ is the smallest number $N$ that is evenly divisible by each of $a,b,c$. Write a function `lcm3` that inputs 3 positive integers returns the least common multiple of the input.\n",
    "\n",
    "```\n",
    ">>> hw.lcm3(1,2,3)\n",
    "6\n",
    ">>> hw.lcm3(4,6,12)\n",
    "12\n",
    "```"
   ]
  },
  {
   "cell_type": "code",
   "execution_count": null,
   "metadata": {},
   "outputs": [],
   "source": []
  },
  {
   "cell_type": "markdown",
   "metadata": {},
   "source": [
    "---\n",
    "**Question 3 (List Distances):**\n",
    "\n",
    "Similar to Question 0, write a function that takes in a possibly empty list of integers and:\n",
    "* Returns `True` if there exist two list elements $i$ places apart, whose distance as integers is also $i$.\n",
    "* Otherwise, returns `False`.\n",
    "\n",
    "Assume your inputs tend to satisfy the condition, and the pair(s) saitifying the condition tend to be close together; design your function to run faster for this case. (Optimizing your code for an assumed distribution of incoming data is very common in data science).\n",
    "\n",
    "For example, because `3` and (the second) `5` are two places apart, and $|3-5| = 2$:\n",
    "```\n",
    ">>> hw.same_diff_ints([5,3,1,5,9,8])\n",
    "True\n",
    "```\n",
    "Whereas:\n",
    "```\n",
    ">>> hw.same_diff_ints([1,3,5,7,9])\n",
    "False\n",
    "```\n",
    "\n",
    "*Note*: Make sure to define some extreme test cases. Use the `%time` command to time your function!"
   ]
  },
  {
   "cell_type": "code",
   "execution_count": null,
   "metadata": {},
   "outputs": [],
   "source": [
    "%time hw.same_diff_ints([5,3,1,5,9,8])"
   ]
  },
  {
   "cell_type": "markdown",
   "metadata": {},
   "source": [
    "---\n",
    "## Strings and Files\n",
    "\n",
    "The following questions will help you (re)learn the basics of working with strings and reading data from files (which are read in as strings, by default)."
   ]
  },
  {
   "cell_type": "markdown",
   "metadata": {},
   "source": [
    "---\n",
    "**Question 4 (Prefixes):**\n",
    "\n",
    "Write a function `prefixes` that takes a string and returns a string of every consecutive prefix of the input string. Recall that [strings may be sliced](https://docs.python.org/3/tutorial/introduction.html#strings), like lists.\n",
    "\n",
    "```\n",
    ">>> hw.prefixes('Data!')\n",
    "'DDaDatDataData!'\n",
    ">>> hw.prefixes('Marina')\n",
    "'MMaMarMariMarinMarina'\n",
    ">>> hw.prefixes('aaron')\n",
    "'aaaaaraaroaaron'\n",
    "```"
   ]
  },
  {
   "cell_type": "code",
   "execution_count": null,
   "metadata": {},
   "outputs": [],
   "source": []
  },
  {
   "cell_type": "markdown",
   "metadata": {},
   "source": [
    "---\n",
    "**Question 5 (Evens reversed):**\n",
    "\n",
    "Write a function `evens_reversed` that takes in a non-negative integer $N$ and returns a string containing all even integers from $1$ to $N$ (inclusive) in reversed order, separated by spaces. Additionally, [zero pad](https://www.tutorialspoint.com/python/string_zfill.htm) each integer, so that each has the same length.\n",
    "\n",
    "```\n",
    ">>> hw.evens_reversed(7)\n",
    "'6 4 2'\n",
    ">>> hw.evens_reversed(10)\n",
    "'10 08 06 04 02'\n",
    "```"
   ]
  },
  {
   "cell_type": "code",
   "execution_count": null,
   "metadata": {},
   "outputs": [],
   "source": []
  },
  {
   "cell_type": "markdown",
   "metadata": {},
   "source": [
    "---\n",
    "\n",
    "[Recall](https://docs.python.org/3/tutorial/inputoutput.html#reading-and-writing-files) that the built-in function `open` takes in a file path and returns *a file object* (sometimes called a *file handle*). Below are a few properties of file objects:\n",
    "\n",
    "* `open(path)` opens the file at location `path` for reading.\n",
    "* `open(path)` is an *iterable*, which contains successive lines of the file.\n",
    "* Once a file object is opened, after use it should be closed to avoid memory leaks. To ensure a file is closed once done, you should use a *context manager* as follows:\n",
    "```\n",
    "with open(path) as fh:\n",
    "    for line in fh:\n",
    "        process_line(line)\n",
    "```\n",
    "* To read the entire file into a string, use the read method:\n",
    "```\n",
    "with open(path) as fh:\n",
    "    s = fh.read()\n",
    "```\n",
    "However, you should be careful when reading an entire file into memory that the file isn't too big!\n",
    "\n",
    "**Question 6 (Reading Files):**\n",
    "\n",
    "Create a function `last_chars` that takes a file object and returns a string consisting of the last character of the line.\n",
    "\n",
    "```\n",
    ">>> hw.last_chars(open('chars.txt'))\n",
    "hrg\n",
    "```\n",
    "\n",
    "*Note*: leaving a file handle open is bad form, as they're a cause of memory leaks. However, it's both relatively harmless in small tests as above."
   ]
  },
  {
   "cell_type": "code",
   "execution_count": null,
   "metadata": {},
   "outputs": [],
   "source": []
  },
  {
   "cell_type": "markdown",
   "metadata": {},
   "source": [
    "---\n",
    "**Question 7 (Two Character Combinations):**\n",
    "\n",
    "In this question, you'll calculate the distribution of every two-character sequence in the book *Pride and Prejudice*. This will give some idea of which letters co-occur in english-usage. To do this, create the following functions:\n",
    "* `cnt_values` takes in a string and returns a dictionary whose:\n",
    "    - keys are sequential two character combinations  and all letters should be lower-case,\n",
    "    - values are the number of times the combinations occurs in the input string.\n",
    "    - The two character combinations should only contain alpha-numeric characters from within single words.\n",
    "    \n",
    "* `list_cnts` takes in a dictionary, as described above, and returns a list of the top 5 most common letter combinations in descending order.\n",
    "    - *Hint*: you might find [this](https://docs.python.org/3/howto/sorting.html) useful.\n",
    "    - Ties can be listed in any order.\n",
    "\n",
    "```\n",
    ">>> s = 'In linen, moment'\n",
    ">>> hw.cnt_values(s)\n",
    "{'in': 2, 'li': 1, 'ne': 1, 'en': 2, 'mo': 1, 'om': 1, 'me': 1, 'nt': 1}\n",
    ">>> hw.list_cnts(hw.cnt_values(s))\n",
    "['in', 'en', 'li', 'ne', 'mo']\n",
    "```"
   ]
  },
  {
   "cell_type": "code",
   "execution_count": null,
   "metadata": {},
   "outputs": [],
   "source": []
  },
  {
   "cell_type": "code",
   "execution_count": null,
   "metadata": {},
   "outputs": [],
   "source": [
    "# test your function on open(./pride_and_predjudice.txt).read()"
   ]
  },
  {
   "cell_type": "code",
   "execution_count": null,
   "metadata": {},
   "outputs": [],
   "source": []
  },
  {
   "cell_type": "markdown",
   "metadata": {},
   "source": [
    "## Getting Started with Pandas"
   ]
  },
  {
   "cell_type": "markdown",
   "metadata": {},
   "source": [
    "---\n",
    "**Question 8 (Flight Delays):**\n",
    "\n",
    "The dataset `flights.csv` contains a list of all US flight delays either leaving from, or going to, California in 2015.\n",
    "\n",
    "Define a function `airport_arrival_stats` that takes in an airport code `AIR` and outputs a list with the following quantities, in the following order:\n",
    "* number of arriving flights to `AIR`.\n",
    "* average flight delay of arriving flights to `AIR`.\n",
    "* median flight delay of arriving flights to `AIR`.\n",
    "* the airline code of the airline that most often arrives to `AIR`.\n",
    "* the proportion of arriving flights to `AIR` that are cancelled in July 2015.\n",
    "* the airline code of the airline with the longest flight delay among all flights arriving to `AIR`.\n"
   ]
  },
  {
   "cell_type": "code",
   "execution_count": null,
   "metadata": {},
   "outputs": [],
   "source": [
    "flights = pd.read_csv('flights.csv')"
   ]
  },
  {
   "cell_type": "code",
   "execution_count": null,
   "metadata": {},
   "outputs": [],
   "source": []
  },
  {
   "cell_type": "markdown",
   "metadata": {},
   "source": [
    "### Advanced selection: creating and combining boolean arrays\n",
    "\n",
    "Row selection using boolean arrays was covered in lecture. Recall that arrays can be compared using comparison operators (`<`,`>`,`==`,...), producing boolean arrays. These boolean arrays can be used to select rows according to those comparison conditions."
   ]
  },
  {
   "cell_type": "code",
   "execution_count": null,
   "metadata": {},
   "outputs": [],
   "source": [
    "df = pd.DataFrame([[1,4,7],[2,5,8],[3,6,9]], columns=['a', 'b', 'c'])\n",
    "df"
   ]
  },
  {
   "cell_type": "code",
   "execution_count": null,
   "metadata": {},
   "outputs": [],
   "source": [
    "# select rows where column `a` < 2\n",
    "bool_arr1 = df['a'] < 2\n",
    "df[bool_arr1]"
   ]
  },
  {
   "cell_type": "code",
   "execution_count": null,
   "metadata": {},
   "outputs": [],
   "source": [
    "# select rows where column `c` is odd\n",
    "bool_arr2 = (df['c'] % 2).astype(bool)\n",
    "df[bool_arr2]"
   ]
  },
  {
   "attachments": {
    "Screen%20Shot%202019-01-05%20at%208.44.57%20PM.png": {
     "image/png": "[encoded data removed]"
    }
   },
   "cell_type": "markdown",
   "metadata": {},
   "source": [
    "We can combine boolean expressions using the NOT,AND,OR,XOR operators, to create compound expressions for selecting rows of dataframes. In the table below are the operators that can be used to create boolean arrays:\n",
    "\n",
    "![Screen%20Shot%202019-01-05%20at%208.44.57%20PM.png](attachment:Screen%20Shot%202019-01-05%20at%208.44.57%20PM.png)\n",
    "\n",
    "Below is an example of combining the selection statements from above:"
   ]
  },
  {
   "cell_type": "code",
   "execution_count": null,
   "metadata": {},
   "outputs": [],
   "source": [
    "# select rows where column `a` < 2 OR column `c` is odd, but not both:\n",
    "\n",
    "df[bool_arr1 ^ bool_arr2]"
   ]
  },
  {
   "cell_type": "markdown",
   "metadata": {},
   "source": [
    "When putting the boolean arrays inside the selection statement, **always use parentheses!**\n"
   ]
  },
  {
   "cell_type": "code",
   "execution_count": null,
   "metadata": {},
   "outputs": [],
   "source": [
    "# select column `a` greater than 2 OR column `c` is less than 8\n",
    "df[(df['a'] > 2) | (df['c'] < 8)]"
   ]
  },
  {
   "cell_type": "markdown",
   "metadata": {},
   "source": [
    "---\n",
    "**Question 9 (Flight Delays part II)**\n",
    "\n",
    "The dataset `flights.csv` contains a list of all US flight delays either leaving from, or going to, California in 2015.\n",
    "\n",
    "Define a function `late_airlines` that takes in an airport code `AIR` and returns:\n",
    "* a Series, indexed by airline, that contains the proportion of each airline's flights that departed at least two standard deviations above the mean departure delay (of flights leaving or arriving `AIR`).\n",
    "\n",
    "To approach this, create the auxillary function `all_late_flights`, which takes an airport code `AIR` and returns a dataframe of all flights either leaving or arriving `AIR` that departed at least two standard deviations above the mean departure delay (of all flights leaving or arriving `AIR`)."
   ]
  },
  {
   "cell_type": "code",
   "execution_count": null,
   "metadata": {},
   "outputs": [],
   "source": []
  },
  {
   "cell_type": "code",
   "execution_count": null,
   "metadata": {},
   "outputs": [],
   "source": []
  },
  {
   "cell_type": "markdown",
   "metadata": {},
   "source": [
    "---\n",
    "\n",
    "### Big data technique: chunking\n",
    "The flights dataset is actually just a sample of a much larger dataset, which is multiple GB per year. Analyzing this data starts to become cumbersome on an ordinary laptop; you have to start using big data techniques that avoid loading all the data into memory.\n",
    "\n",
    "The Pandas `pd.read_csv` function supports *chunking of the data*, which reads in chunks of the data a little at a time. Each chunk is processed and thrown away before processing the next one.\n",
    "\n",
    "To *chunk* a dataframe with `pd.read_csv`, use the keyword argument `chunksize`. For example, \n",
    "```\n",
    "L = pd.read_csv(datapath, chunksize=100)\n",
    "```\n",
    "is an iterator consisting of dataframes of length 100, containing consecutive lines of data.\n",
    "\n",
    "The following cell defines the iterator and displays the first chunk (the built-in function `next` displays successive chunks of an iterator):"
   ]
  },
  {
   "cell_type": "code",
   "execution_count": null,
   "metadata": {},
   "outputs": [],
   "source": [
    "L = pd.read_csv('flights.csv', chunksize=12)\n",
    "next(L)"
   ]
  },
  {
   "cell_type": "markdown",
   "metadata": {},
   "source": [
    "Now we calculate the total number of cancelled flights run by United Airlines, using chunking:"
   ]
  },
  {
   "cell_type": "code",
   "execution_count": null,
   "metadata": {},
   "outputs": [],
   "source": [
    "chunks = pd.read_csv('flights.csv', chunksize=1000)\n",
    "\n",
    "total_cancelled = 0\n",
    "for chunk in chunks:\n",
    "    total_cancelled += chunk.loc[chunk['AIRLINE'] == 'UA', 'CANCELLED'].sum()\n",
    "    \n",
    "total_cancelled"
   ]
  },
  {
   "cell_type": "markdown",
   "metadata": {},
   "source": [
    "Chunking is slower than loading a dataframe into memory -- but doing so is not always possible!"
   ]
  },
  {
   "cell_type": "markdown",
   "metadata": {},
   "source": [
    "**Question 10 (Flight Delays part III):**\n",
    "\n",
    "Define a function `cancel_cnt_airport` that takes in a *file handle* (e.g. `open('flights.csv')`) and returns a series, indexed by airport, of the number of cancelled flights for each airport. Your answer should use chunking with a chunk-size of 1000.\n",
    "\n",
    "*Note*: The file this question will be graded against is much larger than `flights.csv`, and will not fit into memory. However, if your function works on `flights.csv`, it will work on the larger dataset."
   ]
  },
  {
   "cell_type": "code",
   "execution_count": null,
   "metadata": {},
   "outputs": [],
   "source": []
  },
  {
   "cell_type": "code",
   "execution_count": null,
   "metadata": {},
   "outputs": [],
   "source": []
  },
  {
   "cell_type": "markdown",
   "metadata": {},
   "source": [
    "## Congratulations! You're done!\n",
    "\n",
    "* Instructions for submission..."
   ]
  },
  {
   "cell_type": "code",
   "execution_count": null,
   "metadata": {},
   "outputs": [],
   "source": []
  }
 ],
 "metadata": {
  "kernelspec": {
   "display_name": "Python 3",
   "language": "python",
   "name": "python3"
  },
  "language_info": {
   "codemirror_mode": {
    "name": "ipython",
    "version": 3
   },
   "file_extension": ".py",
   "mimetype": "text/x-python",
   "name": "python",
   "nbconvert_exporter": "python",
   "pygments_lexer": "ipython3",
   "version": "3.6.5"
  }
 },
 "nbformat": 4,
 "nbformat_minor": 2
}
